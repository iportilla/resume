{
  "cells": [
    {
      "cell_type": "markdown",
      "id": "1f340fe9",
      "metadata": {
        "id": "1f340fe9"
      },
      "source": [
        "Last updated: 10/30/23 by portilla@gmail.com"
      ]
    },
    {
      "cell_type": "code",
      "execution_count": null,
      "id": "5033b6e5",
      "metadata": {
        "id": "5033b6e5"
      },
      "outputs": [],
      "source": [
        "!pip install ibm-watson"
      ]
    },
    {
      "cell_type": "code",
      "execution_count": null,
      "id": "mLskKUjwii1f",
      "metadata": {
        "id": "mLskKUjwii1f"
      },
      "outputs": [],
      "source": [
        "!pip install PyPDF2\n",
        "!pip install python-dotenv"
      ]
    },
    {
      "cell_type": "markdown",
      "id": "TJKgqc1n9o75",
      "metadata": {
        "id": "TJKgqc1n9o75"
      },
      "source": [
        "### **Importing the IBM watson sdk for python which can be used to make API calls and a package to parse pdf files for resumes.**"
      ]
    },
    {
      "cell_type": "code",
      "execution_count": null,
      "id": "a7861615",
      "metadata": {
        "id": "a7861615"
      },
      "outputs": [],
      "source": [
        "from ibm_watson import NaturalLanguageUnderstandingV1\n",
        "from ibm_cloud_sdk_core.authenticators import IAMAuthenticator\n",
        "from ibm_watson.natural_language_understanding_v1 import Features, EntitiesOptions, CategoriesOptions, KeywordsOptions, SentimentOptions\n",
        "from PyPDF2 import PdfReader"
      ]
    },
    {
      "cell_type": "code",
      "execution_count": null,
      "id": "82fb810d",
      "metadata": {
        "id": "82fb810d"
      },
      "outputs": [],
      "source": [
        "import pandas as pd\n",
        "import json\n",
        "import os"
      ]
    },
    {
      "cell_type": "markdown",
      "id": "sG6wJeB6_sLN",
      "metadata": {
        "id": "sG6wJeB6_sLN"
      },
      "source": [
        "### **Load the environment variables files containing the API key and URL. This has to be private so nobody can access your instance on the cloud without authorization. Need to create a nlu.env file with 2 environment variables.**"
      ]
    },
    {
      "cell_type": "code",
      "execution_count": null,
      "id": "078d10c6",
      "metadata": {
        "colab": {
          "base_uri": "https://localhost:8080/"
        },
        "id": "078d10c6",
        "outputId": "658dc3d0-447f-4823-b9ed-e1df94ac147c"
      },
      "outputs": [
        {
          "data": {
            "text/plain": [
              "True"
            ]
          },
          "execution_count": 5,
          "metadata": {},
          "output_type": "execute_result"
        }
      ],
      "source": [
        "from dotenv import load_dotenv\n",
        "load_dotenv('nlu.env')"
      ]
    },
    {
      "cell_type": "code",
      "execution_count": null,
      "id": "ThiNa5EA_kdE",
      "metadata": {
        "id": "ThiNa5EA_kdE"
      },
      "outputs": [],
      "source": [
        "IAM_KEY = os.getenv('IAM_KEY')\n",
        "SERVICE_URL = os.getenv('SERVICE_URL')"
      ]
    },
    {
      "cell_type": "code",
      "execution_count": null,
      "id": "db1944a8",
      "metadata": {
        "id": "db1944a8"
      },
      "outputs": [],
      "source": [
        "authenticator = IAMAuthenticator(IAM_KEY)\n",
        "natural_language_understanding = NaturalLanguageUnderstandingV1(version='2020-08-01',authenticator=authenticator)\n",
        "natural_language_understanding.set_service_url(SERVICE_URL)"
      ]
    },
    {
      "cell_type": "markdown",
      "id": "mpJcg_uJAFYr",
      "metadata": {
        "id": "mpJcg_uJAFYr"
      },
      "source": [
        "### **Use keyword extraction on resume. Make a pdf file and change below accordingly**"
      ]
    },
    {
      "cell_type": "code",
      "execution_count": null,
      "id": "OGw6R2MciwYf",
      "metadata": {
        "id": "OGw6R2MciwYf"
      },
      "outputs": [],
      "source": [
        "# extract text from pdf and get keywords\n",
        "reader = PdfReader('./JSmith-Resume.pdf')\n",
        "resume_text = reader.pages[0].extract_text()\n",
        "response=natural_language_understanding.analyze(\n",
        "    text=resume_text,\n",
        "    features=Features(keywords=KeywordsOptions(emotion=False, sentiment=False, limit=20))\n",
        "    ).get_result()"
      ]
    },
    {
      "cell_type": "markdown",
      "id": "KoTFOI94ATES",
      "metadata": {
        "id": "KoTFOI94ATES"
      },
      "source": [
        "### **The keywords for an example job description was already provided in class. It's in the json file**"
      ]
    },
    {
      "cell_type": "code",
      "execution_count": null,
      "id": "JLOp-QpkObY3",
      "metadata": {
        "id": "JLOp-QpkObY3"
      },
      "outputs": [],
      "source": [
        "# get keywords from job description\n",
        "with open('./23-03008-cloud-keywords.json') as f:\n",
        "  job_desc = json.load(f)"
      ]
    },
    {
      "cell_type": "markdown",
      "id": "TmrZrmtwAbs2",
      "metadata": {
        "id": "TmrZrmtwAbs2"
      },
      "source": [
        "### **Extract the keywords obtained in the json response from API call**"
      ]
    },
    {
      "cell_type": "code",
      "execution_count": null,
      "id": "wqNV3oJiN-u8",
      "metadata": {
        "colab": {
          "base_uri": "https://localhost:8080/"
        },
        "id": "wqNV3oJiN-u8",
        "outputId": "9f3da96f-847d-42e9-9bc1-134cf4ea1c22"
      },
      "outputs": [
        {
          "data": {
            "text/plain": [
              "{'usage': {'text_units': 1, 'text_characters': 3374, 'features': 1},\n",
              " 'language': 'en',\n",
              " 'keywords': [{'text': 'key role', 'relevance': 0.610587, 'count': 2},\n",
              "  {'text': 'Google Cloud Platform APIs', 'relevance': 0.604594, 'count': 1},\n",
              "  {'text': 'images of skin diseases', 'relevance': 0.558629, 'count': 1},\n",
              "  {'text': 'Teaching Assistant', 'relevance': 0.548107, 'count': 1},\n",
              "  {'text': 'Image Augmentation', 'relevance': 0.546106, 'count': 1},\n",
              "  {'text': 'Datacenter Scale Computing', 'relevance': 0.543593, 'count': 1},\n",
              "  {'text': 'PID controller', 'relevance': 0.542825, 'count': 1},\n",
              "  {'text': 'Graduate Student Researcher Aug.',\n",
              "   'relevance': 0.540336,\n",
              "   'count': 1},\n",
              "  {'text': 'guidance algorithms', 'relevance': 0.539484, 'count': 1},\n",
              "  {'text': 'integration of an Intel Realsense',\n",
              "   'relevance': 0.5363,\n",
              "   'count': 1},\n",
              "  {'text': 'JWT-based authentication system',\n",
              "   'relevance': 0.534445,\n",
              "   'count': 1},\n",
              "  {'text': 'RESTful APIs', 'relevance': 0.533885, 'count': 1},\n",
              "  {'text': 'PyTorch-based model', 'relevance': 0.531977, 'count': 1},\n",
              "  {'text': 'performance of baseline model', 'relevance': 0.531439, 'count': 1},\n",
              "  {'text': 'training of Deep Learning models',\n",
              "   'relevance': 0.531197,\n",
              "   'count': 1},\n",
              "  {'text': 'Artifical Intelligence', 'relevance': 0.53107, 'count': 1},\n",
              "  {'text': 'Google Cloud Run', 'relevance': 0.530364, 'count': 1},\n",
              "  {'text': 'ML algorithms', 'relevance': 0.530179, 'count': 1},\n",
              "  {'text': 'Deep Learning', 'relevance': 0.529872, 'count': 1},\n",
              "  {'text': 'Colorado Boulder Expected May',\n",
              "   'relevance': 0.529087,\n",
              "   'count': 1}]}"
            ]
          },
          "execution_count": 16,
          "metadata": {},
          "output_type": "execute_result"
        }
      ],
      "source": [
        "response"
      ]
    },
    {
      "cell_type": "code",
      "execution_count": null,
      "id": "RqOgiCegkJCN",
      "metadata": {
        "id": "RqOgiCegkJCN"
      },
      "outputs": [],
      "source": [
        "# extract keywords from the json\n",
        "def extract_keywords(text):\n",
        "    return [keyword['text'] for keyword in text['keywords']]\n",
        "\n",
        "job_description_keywords = extract_keywords(job_desc)\n",
        "resume_keywords = extract_keywords(response)"
      ]
    },
    {
      "cell_type": "markdown",
      "id": "bdJ-kZUnAiSS",
      "metadata": {
        "id": "bdJ-kZUnAiSS"
      },
      "source": [
        "### **Use a simple tfidf vectorizer to vectorize resume and job description and get cosine similarity between the vectors**"
      ]
    },
    {
      "cell_type": "code",
      "execution_count": null,
      "id": "LnksjsWjmMyi",
      "metadata": {
        "colab": {
          "base_uri": "https://localhost:8080/"
        },
        "id": "LnksjsWjmMyi",
        "outputId": "0db5906e-fa08-4a83-a9cb-c12285d692b9"
      },
      "outputs": [
        {
          "data": {
            "text/plain": [
              "array([[0.25558804]])"
            ]
          },
          "execution_count": 15,
          "metadata": {},
          "output_type": "execute_result"
        }
      ],
      "source": [
        "# get similiarity between features\n",
        "from sklearn.feature_extraction.text import TfidfVectorizer\n",
        "from sklearn.metrics.pairwise import cosine_similarity\n",
        "\n",
        "# Sample documents\n",
        "doc1 = ' '.join(job_description_keywords)\n",
        "doc2 = ' '.join(resume_keywords)\n",
        "\n",
        "# Convert documents to TF-IDF vectors\n",
        "tfidf_vectorizer = TfidfVectorizer()\n",
        "tfidf_matrix = tfidf_vectorizer.fit_transform([doc1, doc2])\n",
        "\n",
        "# Compute cosine similarity between the documents\n",
        "similarity_score = cosine_similarity(tfidf_matrix[0], tfidf_matrix[1])\n",
        "\n",
        "similarity_score"
      ]
    }
  ],
  "metadata": {
    "colab": {
      "provenance": []
    },
    "kernelspec": {
      "display_name": "Python 3 (ipykernel)",
      "language": "python",
      "name": "python3"
    },
    "language_info": {
      "codemirror_mode": {
        "name": "ipython",
        "version": 3
      },
      "file_extension": ".py",
      "mimetype": "text/x-python",
      "name": "python",
      "nbconvert_exporter": "python",
      "pygments_lexer": "ipython3",
      "version": "3.9.7"
    }
  },
  "nbformat": 4,
  "nbformat_minor": 5
}
